{
 "cells": [
  {
   "cell_type": "code",
   "execution_count": 26,
   "metadata": {},
   "outputs": [
    {
     "data": {
      "text/plain": [
       "array(['sitting', 'wheel', 'standing', 'reclining', 'balancing',\n",
       "       'inverted'], dtype=object)"
      ]
     },
     "execution_count": 26,
     "metadata": {},
     "output_type": "execute_result"
    }
   ],
   "source": [
    "import pandas as pd\n",
    "tmp=pd.read_csv('./yoga81.csv')\n",
    "tmp=tmp.iloc[:,5:]\n",
    "tmp.drop(columns=['요가자세','추가한클래스(폴더)'],inplace=True)\n",
    "tmp['81분류'].unique()"
   ]
  },
  {
   "cell_type": "code",
   "execution_count": 40,
   "metadata": {},
   "outputs": [],
   "source": [
    "mapper={'sitting':'앉아서', 'wheel':'코어', 'standing':'서서', 'reclining':'누워서', 'balancing':'밸런스' , 'inverted':'팔'}\n",
    "tmp['6분류']=tmp['81분류'].map(mapper)\n",
    "tmp['시작시간(좌측유튭영상)'].fillna(1,inplace=True)\n",
    "tmp['끝나는시간(좌측유튭영상)'].fillna(60,inplace=True)\n",
    "tmp['유튜브 키']=tmp['성공다이어트요가 영상키'].fillna( tmp['이외 유튜브 키'])\n",
    "tmp['끝나는시간(좌측유튭영상)'].replace({ '33(끝)':'33','26(끝)':'26'},inplace=True)\n",
    "tmp.drop(columns=['이외 유튜브 키','성공다이어트요가 영상키','81분류'],inplace=True)\n",
    "tmp['한국어 자세이름'].iloc[47]= '왕 비둘기 자세'\n",
    "tmp.to_csv('yoga81_v1.csv')"
   ]
  }
 ],
 "metadata": {
  "interpreter": {
   "hash": "43b56b502a52d3b012458cff7b8cfe82642841d20f3e0bea38012214fb17e7c3"
  },
  "kernelspec": {
   "display_name": "Python 3.9.9 ('venv': venv)",
   "language": "python",
   "name": "python3"
  },
  "language_info": {
   "codemirror_mode": {
    "name": "ipython",
    "version": 3
   },
   "file_extension": ".py",
   "mimetype": "text/x-python",
   "name": "python",
   "nbconvert_exporter": "python",
   "pygments_lexer": "ipython3",
   "version": "3.9.9"
  },
  "orig_nbformat": 4
 },
 "nbformat": 4,
 "nbformat_minor": 2
}
